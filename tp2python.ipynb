{
 "cells": [
  {
   "cell_type": "code",
   "execution_count": 1,
   "metadata": {},
   "outputs": [
    {
     "name": "stdout",
     "output_type": "stream",
     "text": [
      "[{'produit': 'ordinateur', 'quantité': 5, 'prix_unitaire': 700, 'total': 3500}, {'produit': 'smartphone', 'quantité': 8, 'prix_unitaire': 300, 'total': 2400}, {'produit': 'tablette', 'quantité': 2, 'prix_unitaire': 400, 'total': 800}]\n",
      "<function calculer_total_ventes at 0x000001793D073A60>\n",
      "Chiffre d'affaires total : 6700 euros\n",
      "Produits dont les ventes totales dépassent 1000 euros :\n",
      "ordinateur - 3500 euros\n",
      "smartphone - 2400 euros\n",
      "Température moyenne de la semaine : 21.00 °C\n",
      "Jours avec température inférieure à 20°C : Mercredi, Samedi\n",
      "Jour avec la température la plus élevée : Jeudi\n"
     ]
    }
   ],
   "source": [
    "# Données des ventes quotidiennes\n",
    "ventes = [\n",
    "    {\"produit\": \"ordinateur\", \"quantité\": 5, \"prix_unitaire\": 700},\n",
    "    {\"produit\": \"smartphone\", \"quantité\": 8, \"prix_unitaire\": 300},\n",
    "    {\"produit\": \"tablette\", \"quantité\": 2, \"prix_unitaire\": 400},\n",
    "]\n",
    "# 1. Calculez le total des ventes pour chaque produit\n",
    "def calculer_total_ventes(ventes):\n",
    "    for vente in ventes:\n",
    "        vente[\"total\"] = vente[\"quantité\"] * vente[\"prix_unitaire\"]\n",
    "    return ventes\n",
    "\n",
    "ventes = calculer_total_ventes(ventes)\n",
    "print(ventes)\n",
    "print(calculer_total_ventes)\n",
    "# 2. Affichez le chiffre d'affaires total du magasin pour la journée\n",
    "def calculer_chiffre_affaires(ventes):\n",
    "    return sum(vente[\"total\"] for vente in ventes)\n",
    "\n",
    "chiffre_affaires = calculer_chiffre_affaires(ventes)\n",
    "print(f\"Chiffre d'affaires total : {chiffre_affaires} euros\")\n",
    "# 3. Ajoutez une nouvelle vente au tableau\n",
    "def ajouter_vente(ventes, nouvelle_vente):\n",
    "    ventes.append(nouvelle_vente)\n",
    "    return calculer_total_ventes(ventes)\n",
    "\n",
    "nouvelle_vente = {\"produit\": \"imprimante\", \"quantité\": 3, \"prix_unitaire\": 150}\n",
    "ventes = ajouter_vente(ventes, nouvelle_vente)\n",
    "# 4. Affichez les produits dont les ventes totales dépassent 1000 euros\n",
    "def produits_ventes_superieures(ventes, seuil):\n",
    "    return [vente for vente in ventes if vente[\"total\"] > seuil]\n",
    "\n",
    "produits_populaires = produits_ventes_superieures(ventes, 1000)\n",
    "print(\"Produits dont les ventes totales dépassent 1000 euros :\")\n",
    "for produit in produits_populaires:\n",
    "    print(produit[\"produit\"], \"-\", produit[\"total\"], \"euros\")\n",
    "# Analyse des données météorologiques\n",
    "temperatures = [20, 22, 19, 24, 21, 18, 23] \n",
    "jours = [\"Lundi\", \"Mardi\", \"Mercredi\", \"Jeudi\", \"Vendredi\", \"Samedi\", \"Dimanche\"]\n",
    "# 1. Température moyenne de la semaine\n",
    "def temperature_moyenne(temperatures):\n",
    "    return sum(temperatures) / len(temperatures)\n",
    "\n",
    "moyenne = temperature_moyenne(temperatures)\n",
    "print(f\"Température moyenne de la semaine : {moyenne:.2f} °C\")\n",
    "# 2. Jours avec une température inférieure à 20°C\n",
    "def jours_temp_inferieure(temperatures, jours, seuil):\n",
    "    return [jours[i] for i in range(len(temperatures)) if temperatures[i] < seuil]\n",
    "\n",
    "jours_froids = jours_temp_inferieure(temperatures, jours, 20)\n",
    "print(\"Jours avec température inférieure à 20°C :\", \", \".join(jours_froids))\n",
    "# 3. Jour avec la température la plus élevée\n",
    "def jour_plus_chaud(temperatures, jours):\n",
    "    index_max = temperatures.index(max(temperatures))\n",
    "    return jours[index_max]\n",
    "\n",
    "jour_chaud = jour_plus_chaud(temperatures, jours)\n",
    "print(f\"Jour avec la température la plus élevée : {jour_chaud}\")"
   ]
  }
 ],
 "metadata": {
  "kernelspec": {
   "display_name": ".env",
   "language": "python",
   "name": "python3"
  },
  "language_info": {
   "codemirror_mode": {
    "name": "ipython",
    "version": 3
   },
   "file_extension": ".py",
   "mimetype": "text/x-python",
   "name": "python",
   "nbconvert_exporter": "python",
   "pygments_lexer": "ipython3",
   "version": "3.12.8"
  }
 },
 "nbformat": 4,
 "nbformat_minor": 2
}
